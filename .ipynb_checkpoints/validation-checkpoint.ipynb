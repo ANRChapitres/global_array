{
 "cells": [
  {
   "cell_type": "code",
   "execution_count": 1,
   "metadata": {},
   "outputs": [],
   "source": [
    "from lxml import etree\n",
    "from io import StringIO\n",
    "import sys\n",
    "import fnmatch\n",
    "import os"
   ]
  },
  {
   "cell_type": "code",
   "execution_count": 2,
   "metadata": {},
   "outputs": [],
   "source": [
    "argsdir='/home/odysseus/Bureau/chapitres/git_repo/romans/'\n",
    "files_list=fnmatch.filter(os.listdir(argsdir), '*.xml')"
   ]
  },
  {
   "cell_type": "code",
   "execution_count": 3,
   "metadata": {},
   "outputs": [
    {
     "name": "stdout",
     "output_type": "stream",
     "text": [
      "2013_Daeninckx-Didier_Tetes-de-maures.xml\n",
      "XML Syntax Error\n",
      "1867_Assollant-Alfred_Aventures-merveilleuses-mais-authentiques-du-capitaine-Corcoran-Deuxieme-partie.xml\n",
      "XML Syntax Error\n",
      "1970_Delbo-Charlotte_Auschwitz-et-apres-II--Une-connaissance-inutile.xml\n",
      "XML Syntax Error\n",
      "1994_Millet-Richard_Un-balcon-a-Beyrouth.xml\n",
      "XML Syntax Error\n",
      "1928_Colette_La-naissance-du-jour.xml\n",
      "XML Syntax Error\n"
     ]
    }
   ],
   "source": [
    "index=0\n",
    "for filename_xml in files_list:\n",
    "    \n",
    "    with open(argsdir+filename_xml, 'r') as xml_file:\n",
    "        xml_to_check = xml_file.read()\n",
    "\n",
    "        try:\n",
    "            doc = etree.parse(argsdir+filename_xml)\n",
    "            \n",
    "            if len(doc.findall(\".//p\"))==0:\n",
    "                print(filename_xml)\n",
    "                print(\"Pas de paragraphe\")\n",
    "            \n",
    "            \n",
    "\n",
    "    # check for file IO error\n",
    "        except IOError:\n",
    "            print(filename_xml)\n",
    "            print('Invalid File')\n",
    "\n",
    "    # check for XML syntax errors\n",
    "        except etree.XMLSyntaxError as err:\n",
    "            print(err)\n",
    "            print('XML Syntax Error')\n",
    "        \n",
    "        except :\n",
    "            print(filename_xml)\n",
    "            print('Unknown')\n",
    "            \n",
    "    index+=1        \n",
    "    "
   ]
  },
  {
   "cell_type": "code",
   "execution_count": null,
   "metadata": {},
   "outputs": [],
   "source": []
  }
 ],
 "metadata": {
  "kernelspec": {
   "display_name": "Python 3",
   "language": "python",
   "name": "python3"
  },
  "language_info": {
   "codemirror_mode": {
    "name": "ipython",
    "version": 3
   },
   "file_extension": ".py",
   "mimetype": "text/x-python",
   "name": "python",
   "nbconvert_exporter": "python",
   "pygments_lexer": "ipython3",
   "version": "3.6.4"
  }
 },
 "nbformat": 4,
 "nbformat_minor": 2
}
