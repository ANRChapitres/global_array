{
 "cells": [
  {
   "cell_type": "code",
   "execution_count": 4,
   "metadata": {},
   "outputs": [],
   "source": [
    "from lxml import etree\n",
    "from io import StringIO\n",
    "import sys\n",
    "import fnmatch\n",
    "import os"
   ]
  },
  {
   "cell_type": "code",
   "execution_count": 5,
   "metadata": {},
   "outputs": [],
   "source": [
    "argsdir='/home/odysseus/Bureau/chapitres/git_repo/romans/'\n",
    "files_list=fnmatch.filter(os.listdir(argsdir), '*.xml')"
   ]
  },
  {
   "cell_type": "code",
   "execution_count": 6,
   "metadata": {},
   "outputs": [
    {
     "name": "stdout",
     "output_type": "stream",
     "text": [
      "500\n",
      "1000\n",
      "1500\n",
      "2000\n"
     ]
    }
   ],
   "source": [
    "index=0\n",
    "for filename_xml in files_list:\n",
    "    \n",
    "    with open(argsdir+filename_xml, 'r') as xml_file:\n",
    "        xml_to_check = xml_file.read()\n",
    "\n",
    "        try:\n",
    "            doc = etree.parse(argsdir+filename_xml)\n",
    "            \n",
    "            if len(doc.findall(\".//p\"))==0:\n",
    "                print(filename_xml)\n",
    "                print(\"Pas de paragraphe\")\n",
    "\n",
    "    # check for file IO error\n",
    "        except IOError:\n",
    "            print(filename_xml)\n",
    "            print('Invalid File')\n",
    "\n",
    "    # check for XML syntax errors\n",
    "        except etree.XMLSyntaxError as err:\n",
    "            print(filename_xml)\n",
    "            print('XML Syntax Error')\n",
    "        except:\n",
    "            print(filename_xml)\n",
    "            print('Unknown error.')\n",
    "    index+=1        \n",
    "    if index == 500:\n",
    "        print('500')\n",
    "    elif index == 1000:\n",
    "        print('1000')\n",
    "    elif index == 1500:\n",
    "        print('1500')\n",
    "    elif index == 2000:\n",
    "        print('2000')\n",
    "    elif index == 2500:\n",
    "        print('2500')"
   ]
  },
  {
   "cell_type": "code",
   "execution_count": null,
   "metadata": {},
   "outputs": [],
   "source": []
  }
 ],
 "metadata": {
  "kernelspec": {
   "display_name": "Python 3",
   "language": "python",
   "name": "python3"
  },
  "language_info": {
   "codemirror_mode": {
    "name": "ipython",
    "version": 3
   },
   "file_extension": ".py",
   "mimetype": "text/x-python",
   "name": "python",
   "nbconvert_exporter": "python",
   "pygments_lexer": "ipython3",
   "version": "3.6.4"
  }
 },
 "nbformat": 4,
 "nbformat_minor": 2
}
